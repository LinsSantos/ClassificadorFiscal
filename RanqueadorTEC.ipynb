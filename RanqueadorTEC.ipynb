{
 "cells": [
  {
   "cell_type": "code",
   "execution_count": 1,
   "metadata": {
    "collapsed": true
   },
   "outputs": [],
   "source": [
    "import os\n",
    "import nltk\n",
    "stopwords = nltk.corpus.stopwords.words('portuguese')\n",
    "import re\n",
    "from unicodedata import normalize\n",
    "import numpy as np\n",
    "\n",
    "def montaTEC():\n",
    "    arq = open(\"tec.txt\")\n",
    "    listaarquivoTEC = arq.readlines()\n",
    "    return listaarquivoTEC\n"
   ]
  },
  {
   "cell_type": "code",
   "execution_count": 2,
   "metadata": {
    "collapsed": true
   },
   "outputs": [],
   "source": [
    "\n",
    "def montaCapitulos(plistaTEC):\n",
    "    listaCapitulos = []\n",
    "    r = 0\n",
    "    while(r<len(plistaTEC)):\n",
    "        linha = plistaTEC[r]\n",
    "        if(linha[0:3]==\"Cap\"): #Procura capítulos\n",
    "            capitulo = linha\n",
    "            descricao=\"\"\n",
    "            r=r+1\n",
    "            linha = plistaTEC[r]\n",
    "            while (linha[0:4]!=\"Nota\"):\n",
    "                descricao = descricao + linha + \" \"\n",
    "                r=r+1\n",
    "                linha = plistaTEC[r]\n",
    "            notas=\"\"\n",
    "            r=r+1\n",
    "            linha = plistaTEC[r]\n",
    "            while (linha[0:4]!=\"____\"):\n",
    "                notas = notas + linha +\"\\n\"\n",
    "                r=r+1\n",
    "                linha = plistaTEC[r]\n",
    "            listaCapitulos.append([capitulo.strip(), descricao.strip(), notas])\n",
    "        r=r+1\n",
    "    return listaCapitulos"
   ]
  },
  {
   "cell_type": "code",
   "execution_count": 3,
   "metadata": {
    "collapsed": true
   },
   "outputs": [],
   "source": [
    "\n",
    "def montaNCM(plistaTEC):\n",
    "    listaNCM = []\n",
    "    r = 0\n",
    "    while(r<len(plistaTEC)):\n",
    "        linha = plistaTEC[r]\n",
    "        if(len(linha)<12):\n",
    "            i = linha.find(\".\")\n",
    "            if ((i>=2) and (linha[0].isnumeric())):\n",
    "                r=r+1\n",
    "                linha2 = plistaTEC[r]\n",
    "                if (not linha2==\"\\n\"): # Elimina as sequências de números (na parte 5 Regra de Tributação para Produtos do Setor Aeronáutico da TEC)\n",
    "                    if (not linha2[0].isnumeric()): # Primeiro testa se linha não está vazia\n",
    "                        ncm = linha                             \n",
    "                        descricao = linha2\n",
    "                        linha3 = plistaTEC[r+1]\n",
    "                        tec = \"\"\n",
    "                        if ((not linha3) or (linha3[0].isnumeric())):\n",
    "                            r=r+1\n",
    "                            tec = linha3\n",
    "                        listaNCM.append([ncm.strip(), descricao.strip(), tec.strip()])\n",
    "        r=r+1\n",
    "    return listaNCM"
   ]
  },
  {
   "cell_type": "code",
   "execution_count": 4,
   "metadata": {
    "collapsed": true
   },
   "outputs": [],
   "source": [
    "def remover_acentos(txt):\n",
    "    return normalize('NFKD', txt).encode('ASCII','ignore').decode('ASCII')\n",
    "\n",
    "def somente_letras_e_numeros(raw):\n",
    "    raw = remover_acentos(raw)\n",
    "    clean = re.sub(\"[^a-zA-Z0-9]\",\" \", raw)\n",
    "    return clean\n"
   ]
  },
  {
   "cell_type": "code",
   "execution_count": 5,
   "metadata": {
    "collapsed": true
   },
   "outputs": [],
   "source": [
    "def montaTECResumo(plistaNCM): # Monta linhas da TEC que contém II com descrição contendo a concatenação da descrição da linha e dos \"pais\" - posições, subposições, etc.\n",
    "    listaTECResumo = []\n",
    "    r = 0\n",
    "    while (r<len(plistaNCM)):\n",
    "        linha = plistaNCM[r]\n",
    "        II = linha[2]\n",
    "        if (not II==''): # É uma Classificação válida/\"escolhível\", buscar os \"pais\"\n",
    "            codigo = linha[0]\n",
    "            descricao = linha[1]\n",
    "            s = r - 1\n",
    "            while (True): #Loop DNA. Percorre a lista \"para cima\" procurando a árvore genealógica...\n",
    "                linha = plistaNCM[s]\n",
    "                codigo2 = linha[0]\n",
    "                descricao2 = linha[1]\n",
    "                lcodigo=codigo[0:2]+\".\"+codigo[2:4]\n",
    "                if(lcodigo==codigo2):\n",
    "                    descricao=descricao+\" \"+descricao2\n",
    "                    listaTECResumo.append(codigo+\" \"+descricao)\n",
    "                    break\n",
    "                lcodigo=codigo[0:6]\n",
    "                if(lcodigo==codigo2):\n",
    "                    descricao=descricao+\" \"+descricao2\n",
    "                lcodigo=codigo[0:7]\n",
    "                if(lcodigo==codigo2):\n",
    "                    descricao=descricao+\" \"+descricao2\n",
    "                lcodigo=codigo[0:8]\n",
    "                if(lcodigo==codigo2):\n",
    "                    descricao=descricao+\" \"+descricao2\n",
    "                lcodigo=codigo[0:9]\n",
    "                if(lcodigo==codigo2):\n",
    "                    descricao=descricao+\" \"+descricao2\n",
    "                s = s - 1\n",
    "                if ((s==-1) or ((r-s) > 100)): #Exceção encontrada, abortar!\n",
    "                    listaTECResumo.append(codigo+\" \"+descricao)\n",
    "                    break\n",
    "        r = r + 1\n",
    "    return listaTECResumo"
   ]
  },
  {
   "cell_type": "code",
   "execution_count": 6,
   "metadata": {
    "collapsed": true
   },
   "outputs": [],
   "source": [
    "def montaDictVocabulario(plistaTEC):\n",
    "    vocab = {} # Percorre todos os subitens NCM COM descrição completa. Cria vocabulário através desta descrição completa\n",
    "    index = 0\n",
    "    for linha in (plistaTEC):\n",
    "        codigo = linha[:10]\n",
    "        descricao = linha[11:]\n",
    "        listadepalavras = descricao.split()\n",
    "        for palavra in listadepalavras:\n",
    "            if ((len(palavra)>3) and (stopwords.count(palavra)==0)):\n",
    "                palavra=somente_letras_e_numeros(palavra) # Tira tudo que não for A-B e 0-9\n",
    "                palavra=palavra.upper()\n",
    "                if palavra not in vocab:\n",
    "                    vocab[palavra]=index\n",
    "                    index+=1\n",
    "    return vocab"
   ]
  },
  {
   "cell_type": "code",
   "execution_count": 7,
   "metadata": {
    "collapsed": true
   },
   "outputs": [],
   "source": [
    "# Percorre todos os subitens NCM COM descrição completa. Cria um dict de vetores para cada item da TEC. Cria um vetor do vocabulário primeiro\n",
    "def montaVetores(plistaTEC, pvocab):\n",
    "    vetorVocab = np.zeros(len(pvocab), dtype=np.int16)\n",
    "    vetoresTEC = {}\n",
    "    for linha in (plistaTEC):\n",
    "        codigo = linha[:10]\n",
    "        descricao = linha[11:]\n",
    "        listadepalavras = descricao.split()\n",
    "        tecvector = np.zeros(len(pvocab), dtype=np.int16)\n",
    "        for palavra in listadepalavras:\n",
    "            palavra=somente_letras_e_numeros(palavra) # Tira tudo que não for A-B e 0-9\n",
    "            palavra = palavra.upper()\n",
    "            if palavra in pvocab:\n",
    "                index = pvocab[palavra]\n",
    "                tecvector[index]+=1\n",
    "                vetorVocab[index]+=1\n",
    "                \n",
    "        vetoresTEC[codigo] = tecvector    \n",
    "    return vetoresTEC, vetorVocab\n"
   ]
  },
  {
   "cell_type": "code",
   "execution_count": 8,
   "metadata": {
    "collapsed": true
   },
   "outputs": [],
   "source": [
    "def pontuaVetores(ptexto, pvocab, pvetoresTEC, vetorVocab, ponderado=False):\n",
    "###Por eficiência, selecionar somente as colunas com palavras que ocorrem na busca\n",
    "##Portanto, primeiro converter a lista vetores de TEC em uma Matriz de dimensões\n",
    "## númerodeTECs x tamanhodoVocabulario\n",
    "## Depois criar uma matriz somando os valores das colunas do vocabulário da consulta\n",
    "    matrizVetores = np.asarray(list(pvetoresTEC.values()), dtype=np.int16)\n",
    "    matrizCodigos = np.asarray(list(pvetoresTEC.keys()))\n",
    "    matrizSoma = np.zeros(len(pvetoresTEC))\n",
    "    listadepalavras = ptexto.split()\n",
    "    explicacao = \"\"\n",
    "    for palavra in listadepalavras:\n",
    "        palavra=somente_letras_e_numeros(palavra) # Tira tudo que não for A-B e 0-9\n",
    "        palavra = palavra.upper()\n",
    "        if palavra in pvocab:\n",
    "            index = pvocab[palavra]\n",
    "            vetor = matrizVetores[:, index]\n",
    "            explicacao = explicacao + palavra+' '+str(vetorVocab[index])+' '\n",
    "            matrizSoma = np.add(matrizSoma, vetor)\n",
    "    indicesnaozero = np.nonzero(matrizSoma)\n",
    "    matrizTemp = np.vstack((matrizCodigos[indicesnaozero], matrizSoma[indicesnaozero]))\n",
    "    indices = matrizTemp[1,:].argsort()\n",
    "    indices = indices[::-1]\n",
    "    matrizCodigoePontuacao = matrizTemp[:, indices]\n",
    "    return matrizCodigoePontuacao, explicacao"
   ]
  },
  {
   "cell_type": "code",
   "execution_count": null,
   "metadata": {
    "collapsed": true
   },
   "outputs": [],
   "source": []
  },
  {
   "cell_type": "code",
   "execution_count": null,
   "metadata": {
    "collapsed": true
   },
   "outputs": [],
   "source": []
  },
  {
   "cell_type": "code",
   "execution_count": null,
   "metadata": {
    "collapsed": true
   },
   "outputs": [],
   "source": []
  },
  {
   "cell_type": "code",
   "execution_count": 9,
   "metadata": {
    "collapsed": false
   },
   "outputs": [
    {
     "name": "stdout",
     "output_type": "stream",
     "text": [
      "Arquivo RAW\n",
      "['\\n', '\\n', '\\n', '\\n', '\\n', '\\n', '\\n', '\\n', '\\n', '\\n', '\\n', '\\n', '\\n', '\\n', '\\n', 'NOMENCLATURA COMUM DO MERCOSUL (NCM)\\n', 'E TARIFA EXTERNA COMUM (TEC)\\n', 'BRASIL \\n', '2 0 1 7\\n']\n",
      "['1003.90\\n', '-\\tOutras\\n', '\\n', '1003.90.10\\n', 'Cervejeira\\n', '10\\n', '1003.90.80\\n', 'Outras, em grão\\n', '10\\n', '1003.90.90\\n', 'Outras\\n', '10\\n', '\\n', '\\n', '\\n', '10.04\\n', 'Aveia.\\n', '\\n', '1004.10.00\\n']\n",
      "listaCapitulos\n",
      "['Capítulo 2', 'Carnes e miudezas, comestíveis', '1.-\\tO presente Capítulo não compreende:\\n\\na)\\tNo que diz respeito às posições 02.01 a 02.08 e 02.10, os produtos impróprios para alimentação humana;\\n\\nb)\\tAs tripas, bexigas e estômagos, de animais (posição 05.04), nem o sangue animal (posições 05.11 ou 30.02);\\n\\nc)\\tAs gorduras animais, exceto os produtos da posição 02.09 (Capítulo 15).\\n\\n']\n",
      "['Capítulo 52', 'Algodão', '1.-\\tNa acepção das subposições 5209.42 e 5211.42, consideram-se “tecidos denominados Denim” os tecidos de fios de diversas cores, em ponto sarjado cuja relação de textura não seja superior a 4, compreendendo o sarjado quebrado (às vezes denominado cetim de 4), com urdidura pelo lado direito, apresentando os fios da urdidura uma mesma e única cor e os da trama crus, branqueados ou tingidos de cinzento ou de uma tonalidade mais clara do que a dos fios de urdidura.\\n\\n']\n",
      "listaNCM\n",
      "['01.01', 'Cavalos, asininos e muares, vivos.', '']\n",
      "['0101.2', '-\\tCavalos:', '']\n",
      "['0101.21.00', '--\\tReprodutores de raça pura', '0']\n",
      "['0101.29.00', '--\\tOutros', '2']\n",
      "['0101.30.00', '-\\tAsininos', '4']\n",
      "['0101.90.00', '-\\tOutros', '4']\n",
      "['01.02', 'Animais vivos da espécie bovina.', '']\n",
      "['0102.2', '-\\tBovinos domésticos:', '']\n",
      "['0102.21', '--\\tReprodutores de raça pura', '']\n",
      "['0903.00.10', 'Simplesmente cancheado', '10']\n",
      "['0903.00.90', 'Outros', '10']\n",
      "['09.04', 'Pimenta do gênero Piper; pimentões e pimentas (pimentos*) do gênero Capsicum ou do gênero Pimenta, secos ou triturados ou em pó.', '']\n",
      "['0904.1', '-\\tPimenta do gênero Piper:', '']\n",
      "['0904.11.00', '--\\tNão triturada nem em pó', '10']\n",
      "['0904.12.00', '--\\tTriturada ou em pó', '10']\n",
      "['0904.2', '-\\tPimentões e pimentas (Pimentos*) do gênero Capsicum ou do gênero Pimenta:', '']\n",
      "['0904.21.00', '--\\tSecos, não triturados nem em pó', '10']\n",
      "['0904.22.00', '--\\tTriturados ou em pó', '10']\n",
      "Montando documentos...\n",
      "Total de documentos na coleção:\n",
      "10147\n",
      "Primeiras linhas:\n",
      "0101.21.00 --\tReprodutores de raça pura -\tCavalos: Cavalos, asininos e muares, vivos.\n",
      "0101.29.00 --\tOutros -\tCavalos: Cavalos, asininos e muares, vivos.\n",
      "0101.30.00 -\tAsininos Cavalos, asininos e muares, vivos.\n",
      "0101.90.00 -\tOutros Cavalos, asininos e muares, vivos.\n",
      "0102.21.10 Prenhes ou com cria ao pé --\tReprodutores de raça pura -\tBovinos domésticos: Animais vivos da espécie bovina.\n",
      "0102.21.90 Outros --\tReprodutores de raça pura -\tBovinos domésticos: Animais vivos da espécie bovina.\n",
      "0102.29.11 Prenhes ou com cria ao pé Para reprodução --\tOutros -\tBovinos domésticos: Animais vivos da espécie bovina.\n",
      "0102.29.19 Outros Para reprodução --\tOutros -\tBovinos domésticos: Animais vivos da espécie bovina.\n",
      "0102.29.90 Outros --\tOutros -\tBovinos domésticos: Animais vivos da espécie bovina.\n",
      "Algumas linha aleatórias:\n",
      "9022.19.10 Espectrômetros ou espectrógrafos de raios X --\tPara outros usos -\tAparelhos de raios X, mesmo para usos médicos, cirúrgicos, odontológicos ou veterinários, incluindo os aparelhos de radiofotografia ou de radioterapia: Aparelhos de raios X e aparelhos que utilizem radiações alfa, beta ou gama, mesmo para usos médicos, cirúrgicos, odontológicos ou veterinários, incluindo os aparelhos de radiofotografia ou de radioterapia, os tubos de raios X e outros dispositivos geradores de raios X, os geradores de tensão, as mesas de comando, as telas de visualização, as mesas,\n",
      "8447.90.90 Outras -\tOutros Teares para fabricar malhas, máquinas de costura por entrelaçamento (couture-tricotage), máquinas para fabricar guipuras, tules, rendas, bordados, passamanarias, galões ou redes e máquinas para inserir tufos.\n",
      "8425.39.90 Outros --\tOutros -\tGuinchos; cabrestantes: Talhas, cadernais e moitões; guinchos e cabrestantes; macacos.\n",
      "0304.53.00 --\tPeixes das famílias Bregmacerotidae, Euclichthyidae, Gadidae, Macrouridae, Melanonidae, Merlucciidae, Moridae e Muraenolepididae -\tOutros, frescos ou refrigerados: Filés (Filetes*) de peixes e outra carne de peixes (mesmo picada), frescos, refrigerados ou congelados.\n",
      "2603.00.10 Sulfetos Minérios de cobre e seus concentrados.\n",
      "5310.90.00 -\tOutros Tecidos de juta ou de outras fibras têxteis liberianas da posição 53.03.\n",
      "8517.12.49 Outros De telecomunicações por satélite --\tTelefones para redes celulares e para outras redes sem fio -\tAparelhos telefônicos, incluindo os telefones para redes celulares e para outras redes sem fio: Aparelhos telefônicos, incluindo os telefones para redes celulares e para outras redes sem fio; outros aparelhos para emissão, transmissão ou recepção de voz, imagens ou outros dados, incluindo os aparelhos para comunicação em redes por fio ou redes sem fio (tal como uma rede local (LAN) ou uma rede de área estendida (alargada*) (WAN)), exceto os aparelhos\n",
      "8543.70.19 Outros Amplificadores de radiofrequência -\tOutras máquinas e aparelhos Máquinas e aparelhos elétricos com função própria, não especificados nem compreendidos noutras posições do presente Capítulo.\n",
      "3004.20.29 Outros Que contenham macrolídios ou seus derivados -\tOutros, que contenham antibióticos Medicamentos (exceto os produtos das posições 30.02, 30.05 ou 30.06) constituídos por produtos misturados ou não misturados, preparados para fins terapêuticos ou profiláticos, apresentados em doses (incluindo os destinados a serem administrados por via percutânea) ou acondicionados para venda a retalho.\n",
      "Montando vocabulário...\n",
      "Total de palavras do Vocabulário da TEC:\n",
      "12548\n",
      "Montando vetores...\n",
      "Vetor de vocabulário:\n",
      "(12548,)\n",
      "Vetor de documentos:\n",
      "10147\n",
      "Total de palavras da TEC:\n",
      "170019\n",
      "Total de palavras das linhas da NCM da TEC com descrição completa (Coleção de documentos):\n",
      "353167\n",
      "Média de palavras por linha (Coleção de documentos):\n",
      "34.80506553661181\n",
      "Número de documentos da coleção:\n",
      "10147\n",
      "Estatísticas das ocorrências das palavras no vocabulário:\n",
      "Média 18.51848900223143, mínimo 1, máximo 8124\n"
     ]
    }
   ],
   "source": [
    "listaTEC = montaTEC()\n",
    "print(\"Arquivo RAW\")\n",
    "print(listaTEC[0:19])\n",
    "print(listaTEC[5001:5020])\n",
    "\n",
    "listaCapitulos = montaCapitulos(listaTEC)\n",
    "print(\"listaCapitulos\")\n",
    "print(listaCapitulos[1])\n",
    "print(listaCapitulos[50])\n",
    "\n",
    "listaNCM = montaNCM(listaTEC)\n",
    "print(\"listaNCM\")\n",
    "for linha in listaNCM[0:9]:\n",
    "    print(linha)\n",
    "for linha in listaNCM[1001:1010]:\n",
    "    print(linha)\n",
    "\n",
    "print(\"Montando documentos...\")\n",
    "listaTECResumo = montaTECResumo(listaNCM)\n",
    "print(\"Total de documentos na coleção:\")\n",
    "print(len(listaTECResumo))\n",
    "print(\"Primeiras linhas:\")\n",
    "for linha in listaTECResumo[0:9]:\n",
    "    print(linha)\n",
    "print(\"Algumas linha aleatórias:\")\n",
    "from random import randint\n",
    "for i in range(1,10):\n",
    "    print(listaTECResumo[randint(0, len(listaTECResumo))])\n",
    "print(\"Montando vocabulário...\")\n",
    "vocab = montaDictVocabulario(listaTECResumo)\n",
    "print(\"Total de palavras do Vocabulário da TEC:\")\n",
    "print(len(vocab))\n",
    "\n",
    "print(\"Montando vetores...\")\n",
    "vetoresTEC, vetorVocab = montaVetores(listaTECResumo, vocab)\n",
    "print(\"Vetor de vocabulário:\")\n",
    "print(vetorVocab.shape)\n",
    "print(\"Vetor de documentos:\")\n",
    "print(len(vetoresTEC))\n",
    "\n",
    "todasaspalavrasTEC = str(listaTEC)\n",
    "listatodasaspalavrasTEC = todasaspalavrasTEC.split()\n",
    "print(\"Total de palavras da TEC:\")\n",
    "print(len(listatodasaspalavrasTEC))\n",
    "\n",
    "todasaspalavrasTECResumo = str(listaTECResumo)\n",
    "listatodasaspalavrasTECResumo = todasaspalavrasTECResumo.split()\n",
    "print(\"Total de palavras das linhas da NCM da TEC com descrição completa (Coleção de documentos):\")\n",
    "print(len(listatodasaspalavrasTECResumo))\n",
    "\n",
    "print(\"Média de palavras por linha (Coleção de documentos):\")\n",
    "print(len(listatodasaspalavrasTECResumo)/len(listaTECResumo))\n",
    "\n",
    "print(\"Número de documentos da coleção:\")\n",
    "print(len(vetoresTEC))\n",
    "\n",
    "print(\"Estatísticas das ocorrências das palavras no vocabulário:\")\n",
    "print(\"Média {}, mínimo {}, máximo {}\".format(vetorVocab.mean(), vetorVocab.min(), vetorVocab.max()))\n"
   ]
  },
  {
   "cell_type": "code",
   "execution_count": 11,
   "metadata": {
    "collapsed": false
   },
   "outputs": [],
   "source": [
    "from sklearn.feature_extraction.text import TfidfTransformer\n",
    "transformer = TfidfTransformer()\n",
    "matrizVetores = np.asarray(list(vetoresTEC.values()), dtype=np.int16)\n",
    "tfidf = transformer.fit_transform(matrizVetores)\n",
    "matriz_tfidf = tfidf.toarray()"
   ]
  },
  {
   "cell_type": "code",
   "execution_count": 17,
   "metadata": {
    "collapsed": false
   },
   "outputs": [
    {
     "name": "stdout",
     "output_type": "stream",
     "text": [
      "[[0 0 0 ..., 0 0 0]\n",
      " [0 0 0 ..., 0 0 0]\n",
      " [0 0 0 ..., 0 0 0]\n",
      " ..., \n",
      " [0 0 0 ..., 0 0 0]\n",
      " [0 0 0 ..., 0 0 0]\n",
      " [1 1 1 ..., 0 0 0]]\n",
      "[[ 0.          0.          0.         ...,  0.          0.          0.        ]\n",
      " [ 0.          0.          0.         ...,  0.          0.          0.        ]\n",
      " [ 0.          0.          0.         ...,  0.          0.          0.        ]\n",
      " ..., \n",
      " [ 0.          0.          0.         ...,  0.          0.          0.        ]\n",
      " [ 0.          0.          0.         ...,  0.          0.          0.        ]\n",
      " [ 0.3453688   0.3453688   0.33742073 ...,  0.          0.          0.        ]]\n"
     ]
    }
   ],
   "source": [
    "print(matrizVetores[1:10])\n",
    "\n",
    "print(matriz_tfidf[1:10])"
   ]
  },
  {
   "cell_type": "code",
   "execution_count": 26,
   "metadata": {
    "collapsed": true
   },
   "outputs": [],
   "source": [
    "def pontuaVetores_tfidf(ptexto, pvocab, pvetoresTEC, vetorVocab, ponderado=False):\n",
    "###Por eficiência, selecionar somente as colunas com palavras que ocorrem na busca\n",
    "##Portanto, primeiro converter a lista vetores de TEC em uma Matriz de dimensões\n",
    "## númerodeTECs x tamanhodoVocabulario\n",
    "## Depois criar uma matriz somando os valores das colunas do vocabulário da consulta\n",
    "    matrizVetores = np.asarray(list(pvetoresTEC.values()), dtype=np.int16)\n",
    "    from sklearn.feature_extraction.text import TfidfTransformer\n",
    "    transformer = TfidfTransformer()\n",
    "    tfidf = transformer.fit_transform(matrizVetores)\n",
    "    matriz_tfidf = tfidf.toarray()\n",
    "    matrizCodigos = np.asarray(list(pvetoresTEC.keys()))\n",
    "    matrizSoma = np.zeros(len(pvetoresTEC))\n",
    "    listadepalavras = ptexto.split()\n",
    "    explicacao = \"\"\n",
    "    for palavra in listadepalavras:\n",
    "        palavra=somente_letras_e_numeros(palavra) # Tira tudo que não for A-B e 0-9\n",
    "        palavra = palavra.upper()\n",
    "        if palavra in pvocab:\n",
    "            index = pvocab[palavra]\n",
    "            vetor = matriz_tfidf[:, index]\n",
    "            explicacao = explicacao + palavra+' '+str(vetorVocab[index])+' '\n",
    "            matrizSoma = np.add(matrizSoma, vetor)\n",
    "    indicesnaozero = np.nonzero(matrizSoma)\n",
    "    matrizTemp = np.vstack((matrizCodigos[indicesnaozero], matrizSoma[indicesnaozero]))\n",
    "    indices = matrizTemp[1,:].argsort()\n",
    "    indices = indices[::-1]\n",
    "    matrizCodigoePontuacao = matrizTemp[:, indices]\n",
    "    return matrizCodigoePontuacao, explicacao"
   ]
  },
  {
   "cell_type": "code",
   "execution_count": 27,
   "metadata": {
    "collapsed": false
   },
   "outputs": [
    {
     "name": "stdout",
     "output_type": "stream",
     "text": [
      "TECIDOS 569 MALHA 54 FIBRAS 839 SINTETICAS 281 POLIESTERES 74 ESTAMPADOS 31 \n",
      "5 mais:\n",
      "['1.5540693500933536' '1.2670506868422255' '1.2275553770539624'\n",
      " '1.2042355691237416' '1.1558503446987298']\n",
      "6006.34.20 De poliésteres --\tEstampados -\tDe fibras sintéticas: Outros tecidos de malha.\n",
      "['1.5540693500933536' '1.2670506868422255' '1.2275553770539624'\n",
      " '1.2042355691237416' '1.1558503446987298']\n",
      "6006.44.00 --\tEstampados -\tDe fibras artificiais: Outros tecidos de malha.\n",
      "['1.5540693500933536' '1.2670506868422255' '1.2275553770539624'\n",
      " '1.2042355691237416' '1.1558503446987298']\n",
      "5516.94.00 --\tEstampados -\tOutros: Tecidos de fibras artificiais descontínuas.\n",
      "['1.5540693500933536' '1.2670506868422255' '1.2275553770539624'\n",
      " '1.2042355691237416' '1.1558503446987298']\n",
      "6006.34.90 Outros --\tEstampados -\tDe fibras sintéticas: Outros tecidos de malha.\n",
      "['1.5540693500933536' '1.2670506868422255' '1.2275553770539624'\n",
      " '1.2042355691237416' '1.1558503446987298']\n",
      "6003.30.00 -\tDe fibras sintéticas Tecidos de malha de largura não superior a 30 cm, exceto os das posições 60.01 e 60.02.\n"
     ]
    }
   ],
   "source": [
    "teste=\"tecidos de malha fibras sinteticas poliesteres estampados\"\n",
    "matrizPontos, explica = pontuaVetores_tfidf(teste, vocab, vetoresTEC, vetorVocab)\n",
    "print(explica)\n",
    "ind = 5\n",
    "if (ind > matrizPontos.shape[1]):\n",
    "    ind = matrizPontos.shape[1]\n",
    "print(\"5 mais:\")\n",
    "for codigo in (matrizPontos[0, :ind]):\n",
    "    for linha in (listaTECResumo):\n",
    "        codigo2 = linha[:10]\n",
    "        if(codigo2==codigo):\n",
    "            print(matrizPontos[1, :ind])\n",
    "            print(linha)\n"
   ]
  },
  {
   "cell_type": "code",
   "execution_count": 25,
   "metadata": {
    "collapsed": false
   },
   "outputs": [
    {
     "name": "stdout",
     "output_type": "stream",
     "text": [
      "TECIDOS 569 MALHA 54 FIBRAS 839 SINTETICAS 281 POLIESTERES 74 ESTAMPADOS 31 \n",
      "5 mais:\n",
      "['6.0' '6.0' '6.0' '5.0' '5.0']\n",
      "9001.10.20 Feixes e cabos de fibras ópticas -\tFibras ópticas, feixes e cabos de fibras ópticas Fibras ópticas e feixes de fibras ópticas; cabos de fibras ópticas, exceto os da posição 85.44; matérias polarizantes em folhas ou em placas; lentes (incluindo as de contato), prismas, espelhos e outros elementos de óptica, de qualquer matéria, não montados, exceto os de vidro não trabalhado opticamente.\n",
      "['6.0' '6.0' '6.0' '5.0' '5.0']\n",
      "9001.10.19 Outras Fibras ópticas -\tFibras ópticas, feixes e cabos de fibras ópticas Fibras ópticas e feixes de fibras ópticas; cabos de fibras ópticas, exceto os da posição 85.44; matérias polarizantes em folhas ou em placas; lentes (incluindo as de contato), prismas, espelhos e outros elementos de óptica, de qualquer matéria, não montados, exceto os de vidro não trabalhado opticamente.\n",
      "['6.0' '6.0' '6.0' '5.0' '5.0']\n",
      "9001.10.11 De diâmetro de núcleo inferior a 11 micrômetros (mícrons) Fibras ópticas -\tFibras ópticas, feixes e cabos de fibras ópticas Fibras ópticas e feixes de fibras ópticas; cabos de fibras ópticas, exceto os da posição 85.44; matérias polarizantes em folhas ou em placas; lentes (incluindo as de contato), prismas, espelhos e outros elementos de óptica, de qualquer matéria, não montados, exceto os de vidro não trabalhado opticamente.\n",
      "['6.0' '6.0' '6.0' '5.0' '5.0']\n",
      "5511.10.00 -\tDe fibras sintéticas descontínuas, que contenham pelo menos 85 %, em peso, destas fibras Fios de fibras sintéticas ou artificiais, descontínuas (exceto linhas para costurar), acondicionados para venda a retalho.\n",
      "['6.0' '6.0' '6.0' '5.0' '5.0']\n",
      "6001.22.00 --\tDe fibras sintéticas ou artificiais -\tTecidos de anéis: Veludos e pelúcias (incluindo os tecidos denominados de “felpa longa” ou “pelo comprido”) e tecidos de anéis, de malha.\n"
     ]
    }
   ],
   "source": [
    "teste=\"tecidos de malha fibras sinteticas poliesteres estampados\"\n",
    "matrizPontos, explica = pontuaVetores(teste, vocab, vetoresTEC, vetorVocab)\n",
    "print(explica)\n",
    "ind = 5\n",
    "if (ind > matrizPontos.shape[1]):\n",
    "    ind = matrizPontos.shape[1]\n",
    "print(\"5 mais:\")\n",
    "for codigo in (matrizPontos[0, :ind]):\n",
    "    for linha in (listaTECResumo):\n",
    "        codigo2 = linha[:10]\n",
    "        if(codigo2==codigo):\n",
    "            print(matrizPontos[1, :ind])\n",
    "            print(linha)"
   ]
  }
 ],
 "metadata": {
  "kernelspec": {
   "display_name": "Python 3",
   "language": "python",
   "name": "python3"
  },
  "language_info": {
   "codemirror_mode": {
    "name": "ipython",
    "version": 3
   },
   "file_extension": ".py",
   "mimetype": "text/x-python",
   "name": "python",
   "nbconvert_exporter": "python",
   "pygments_lexer": "ipython3",
   "version": "3.6.0"
  }
 },
 "nbformat": 4,
 "nbformat_minor": 2
}
